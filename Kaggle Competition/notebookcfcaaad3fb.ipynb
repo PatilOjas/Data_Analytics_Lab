{
 "cells": [
  {
   "cell_type": "code",
   "execution_count": 1,
   "id": "c90f0c7e",
   "metadata": {
    "_cell_guid": "b1076dfc-b9ad-4769-8c92-a6c4dae69d19",
    "_uuid": "8f2839f25d086af736a60e9eeb907d3b93b6e0e5",
    "execution": {
     "iopub.execute_input": "2022-04-30T12:52:32.875091Z",
     "iopub.status.busy": "2022-04-30T12:52:32.874180Z",
     "iopub.status.idle": "2022-04-30T12:52:32.883146Z",
     "shell.execute_reply": "2022-04-30T12:52:32.883897Z",
     "shell.execute_reply.started": "2022-04-30T12:51:07.432527Z"
    },
    "papermill": {
     "duration": 0.038293,
     "end_time": "2022-04-30T12:52:32.884270",
     "exception": false,
     "start_time": "2022-04-30T12:52:32.845977",
     "status": "completed"
    },
    "tags": []
   },
   "outputs": [
    {
     "name": "stdout",
     "output_type": "stream",
     "text": [
      "/kaggle/input/titanic/train.csv\n",
      "/kaggle/input/titanic/test.csv\n",
      "/kaggle/input/titanic/gender_submission.csv\n"
     ]
    }
   ],
   "source": [
    "# This Python 3 environment comes with many helpful analytics libraries installed\n",
    "# It is defined by the kaggle/python Docker image: https://github.com/kaggle/docker-python\n",
    "# For example, here's several helpful packages to load\n",
    "\n",
    "import numpy as np # linear algebra\n",
    "import pandas as pd # data processing, CSV file I/O (e.g. pd.read_csv)\n",
    "\n",
    "# Input data files are available in the read-only \"../input/\" directory\n",
    "# For example, running this (by clicking run or pressing Shift+Enter) will list all files under the input directory\n",
    "\n",
    "import os\n",
    "for dirname, _, filenames in os.walk('/kaggle/input'):\n",
    "    for filename in filenames:\n",
    "        print(os.path.join(dirname, filename))\n",
    "\n",
    "# You can write up to 20GB to the current directory (/kaggle/working/) that gets preserved as output when you create a version using \"Save & Run All\" \n",
    "# You can also write temporary files to /kaggle/temp/, but they won't be saved outside of the current session"
   ]
  },
  {
   "cell_type": "code",
   "execution_count": 2,
   "id": "54de40fa",
   "metadata": {
    "execution": {
     "iopub.execute_input": "2022-04-30T12:52:32.923544Z",
     "iopub.status.busy": "2022-04-30T12:52:32.922947Z",
     "iopub.status.idle": "2022-04-30T12:52:33.894111Z",
     "shell.execute_reply": "2022-04-30T12:52:33.893605Z",
     "shell.execute_reply.started": "2022-04-30T12:51:07.444858Z"
    },
    "papermill": {
     "duration": 0.990401,
     "end_time": "2022-04-30T12:52:33.894254",
     "exception": false,
     "start_time": "2022-04-30T12:52:32.903853",
     "status": "completed"
    },
    "tags": []
   },
   "outputs": [],
   "source": [
    "import matplotlib.pyplot as mlt\n",
    "import seaborn as sns"
   ]
  },
  {
   "cell_type": "code",
   "execution_count": 3,
   "id": "10e1493f",
   "metadata": {
    "execution": {
     "iopub.execute_input": "2022-04-30T12:52:33.933811Z",
     "iopub.status.busy": "2022-04-30T12:52:33.933214Z",
     "iopub.status.idle": "2022-04-30T12:52:33.974674Z",
     "shell.execute_reply": "2022-04-30T12:52:33.975136Z",
     "shell.execute_reply.started": "2022-04-30T12:51:07.453930Z"
    },
    "papermill": {
     "duration": 0.063348,
     "end_time": "2022-04-30T12:52:33.975299",
     "exception": false,
     "start_time": "2022-04-30T12:52:33.911951",
     "status": "completed"
    },
    "tags": []
   },
   "outputs": [
    {
     "data": {
      "text/html": [
       "<div>\n",
       "<style scoped>\n",
       "    .dataframe tbody tr th:only-of-type {\n",
       "        vertical-align: middle;\n",
       "    }\n",
       "\n",
       "    .dataframe tbody tr th {\n",
       "        vertical-align: top;\n",
       "    }\n",
       "\n",
       "    .dataframe thead th {\n",
       "        text-align: right;\n",
       "    }\n",
       "</style>\n",
       "<table border=\"1\" class=\"dataframe\">\n",
       "  <thead>\n",
       "    <tr style=\"text-align: right;\">\n",
       "      <th></th>\n",
       "      <th>PassengerId</th>\n",
       "      <th>Survived</th>\n",
       "      <th>Pclass</th>\n",
       "      <th>Name</th>\n",
       "      <th>Sex</th>\n",
       "      <th>Age</th>\n",
       "      <th>SibSp</th>\n",
       "      <th>Parch</th>\n",
       "      <th>Ticket</th>\n",
       "      <th>Fare</th>\n",
       "      <th>Cabin</th>\n",
       "      <th>Embarked</th>\n",
       "    </tr>\n",
       "  </thead>\n",
       "  <tbody>\n",
       "    <tr>\n",
       "      <th>0</th>\n",
       "      <td>1</td>\n",
       "      <td>0</td>\n",
       "      <td>3</td>\n",
       "      <td>Braund, Mr. Owen Harris</td>\n",
       "      <td>male</td>\n",
       "      <td>22.0</td>\n",
       "      <td>1</td>\n",
       "      <td>0</td>\n",
       "      <td>A/5 21171</td>\n",
       "      <td>7.2500</td>\n",
       "      <td>NaN</td>\n",
       "      <td>S</td>\n",
       "    </tr>\n",
       "    <tr>\n",
       "      <th>1</th>\n",
       "      <td>2</td>\n",
       "      <td>1</td>\n",
       "      <td>1</td>\n",
       "      <td>Cumings, Mrs. John Bradley (Florence Briggs Th...</td>\n",
       "      <td>female</td>\n",
       "      <td>38.0</td>\n",
       "      <td>1</td>\n",
       "      <td>0</td>\n",
       "      <td>PC 17599</td>\n",
       "      <td>71.2833</td>\n",
       "      <td>C85</td>\n",
       "      <td>C</td>\n",
       "    </tr>\n",
       "    <tr>\n",
       "      <th>2</th>\n",
       "      <td>3</td>\n",
       "      <td>1</td>\n",
       "      <td>3</td>\n",
       "      <td>Heikkinen, Miss. Laina</td>\n",
       "      <td>female</td>\n",
       "      <td>26.0</td>\n",
       "      <td>0</td>\n",
       "      <td>0</td>\n",
       "      <td>STON/O2. 3101282</td>\n",
       "      <td>7.9250</td>\n",
       "      <td>NaN</td>\n",
       "      <td>S</td>\n",
       "    </tr>\n",
       "    <tr>\n",
       "      <th>3</th>\n",
       "      <td>4</td>\n",
       "      <td>1</td>\n",
       "      <td>1</td>\n",
       "      <td>Futrelle, Mrs. Jacques Heath (Lily May Peel)</td>\n",
       "      <td>female</td>\n",
       "      <td>35.0</td>\n",
       "      <td>1</td>\n",
       "      <td>0</td>\n",
       "      <td>113803</td>\n",
       "      <td>53.1000</td>\n",
       "      <td>C123</td>\n",
       "      <td>S</td>\n",
       "    </tr>\n",
       "    <tr>\n",
       "      <th>4</th>\n",
       "      <td>5</td>\n",
       "      <td>0</td>\n",
       "      <td>3</td>\n",
       "      <td>Allen, Mr. William Henry</td>\n",
       "      <td>male</td>\n",
       "      <td>35.0</td>\n",
       "      <td>0</td>\n",
       "      <td>0</td>\n",
       "      <td>373450</td>\n",
       "      <td>8.0500</td>\n",
       "      <td>NaN</td>\n",
       "      <td>S</td>\n",
       "    </tr>\n",
       "    <tr>\n",
       "      <th>...</th>\n",
       "      <td>...</td>\n",
       "      <td>...</td>\n",
       "      <td>...</td>\n",
       "      <td>...</td>\n",
       "      <td>...</td>\n",
       "      <td>...</td>\n",
       "      <td>...</td>\n",
       "      <td>...</td>\n",
       "      <td>...</td>\n",
       "      <td>...</td>\n",
       "      <td>...</td>\n",
       "      <td>...</td>\n",
       "    </tr>\n",
       "    <tr>\n",
       "      <th>886</th>\n",
       "      <td>887</td>\n",
       "      <td>0</td>\n",
       "      <td>2</td>\n",
       "      <td>Montvila, Rev. Juozas</td>\n",
       "      <td>male</td>\n",
       "      <td>27.0</td>\n",
       "      <td>0</td>\n",
       "      <td>0</td>\n",
       "      <td>211536</td>\n",
       "      <td>13.0000</td>\n",
       "      <td>NaN</td>\n",
       "      <td>S</td>\n",
       "    </tr>\n",
       "    <tr>\n",
       "      <th>887</th>\n",
       "      <td>888</td>\n",
       "      <td>1</td>\n",
       "      <td>1</td>\n",
       "      <td>Graham, Miss. Margaret Edith</td>\n",
       "      <td>female</td>\n",
       "      <td>19.0</td>\n",
       "      <td>0</td>\n",
       "      <td>0</td>\n",
       "      <td>112053</td>\n",
       "      <td>30.0000</td>\n",
       "      <td>B42</td>\n",
       "      <td>S</td>\n",
       "    </tr>\n",
       "    <tr>\n",
       "      <th>888</th>\n",
       "      <td>889</td>\n",
       "      <td>0</td>\n",
       "      <td>3</td>\n",
       "      <td>Johnston, Miss. Catherine Helen \"Carrie\"</td>\n",
       "      <td>female</td>\n",
       "      <td>NaN</td>\n",
       "      <td>1</td>\n",
       "      <td>2</td>\n",
       "      <td>W./C. 6607</td>\n",
       "      <td>23.4500</td>\n",
       "      <td>NaN</td>\n",
       "      <td>S</td>\n",
       "    </tr>\n",
       "    <tr>\n",
       "      <th>889</th>\n",
       "      <td>890</td>\n",
       "      <td>1</td>\n",
       "      <td>1</td>\n",
       "      <td>Behr, Mr. Karl Howell</td>\n",
       "      <td>male</td>\n",
       "      <td>26.0</td>\n",
       "      <td>0</td>\n",
       "      <td>0</td>\n",
       "      <td>111369</td>\n",
       "      <td>30.0000</td>\n",
       "      <td>C148</td>\n",
       "      <td>C</td>\n",
       "    </tr>\n",
       "    <tr>\n",
       "      <th>890</th>\n",
       "      <td>891</td>\n",
       "      <td>0</td>\n",
       "      <td>3</td>\n",
       "      <td>Dooley, Mr. Patrick</td>\n",
       "      <td>male</td>\n",
       "      <td>32.0</td>\n",
       "      <td>0</td>\n",
       "      <td>0</td>\n",
       "      <td>370376</td>\n",
       "      <td>7.7500</td>\n",
       "      <td>NaN</td>\n",
       "      <td>Q</td>\n",
       "    </tr>\n",
       "  </tbody>\n",
       "</table>\n",
       "<p>891 rows × 12 columns</p>\n",
       "</div>"
      ],
      "text/plain": [
       "     PassengerId  Survived  Pclass  \\\n",
       "0              1         0       3   \n",
       "1              2         1       1   \n",
       "2              3         1       3   \n",
       "3              4         1       1   \n",
       "4              5         0       3   \n",
       "..           ...       ...     ...   \n",
       "886          887         0       2   \n",
       "887          888         1       1   \n",
       "888          889         0       3   \n",
       "889          890         1       1   \n",
       "890          891         0       3   \n",
       "\n",
       "                                                  Name     Sex   Age  SibSp  \\\n",
       "0                              Braund, Mr. Owen Harris    male  22.0      1   \n",
       "1    Cumings, Mrs. John Bradley (Florence Briggs Th...  female  38.0      1   \n",
       "2                               Heikkinen, Miss. Laina  female  26.0      0   \n",
       "3         Futrelle, Mrs. Jacques Heath (Lily May Peel)  female  35.0      1   \n",
       "4                             Allen, Mr. William Henry    male  35.0      0   \n",
       "..                                                 ...     ...   ...    ...   \n",
       "886                              Montvila, Rev. Juozas    male  27.0      0   \n",
       "887                       Graham, Miss. Margaret Edith  female  19.0      0   \n",
       "888           Johnston, Miss. Catherine Helen \"Carrie\"  female   NaN      1   \n",
       "889                              Behr, Mr. Karl Howell    male  26.0      0   \n",
       "890                                Dooley, Mr. Patrick    male  32.0      0   \n",
       "\n",
       "     Parch            Ticket     Fare Cabin Embarked  \n",
       "0        0         A/5 21171   7.2500   NaN        S  \n",
       "1        0          PC 17599  71.2833   C85        C  \n",
       "2        0  STON/O2. 3101282   7.9250   NaN        S  \n",
       "3        0            113803  53.1000  C123        S  \n",
       "4        0            373450   8.0500   NaN        S  \n",
       "..     ...               ...      ...   ...      ...  \n",
       "886      0            211536  13.0000   NaN        S  \n",
       "887      0            112053  30.0000   B42        S  \n",
       "888      2        W./C. 6607  23.4500   NaN        S  \n",
       "889      0            111369  30.0000  C148        C  \n",
       "890      0            370376   7.7500   NaN        Q  \n",
       "\n",
       "[891 rows x 12 columns]"
      ]
     },
     "execution_count": 3,
     "metadata": {},
     "output_type": "execute_result"
    }
   ],
   "source": [
    "df = pd.read_csv('/kaggle/input/titanic/train.csv')\n",
    "df"
   ]
  },
  {
   "cell_type": "code",
   "execution_count": 4,
   "id": "1c7e52f6",
   "metadata": {
    "execution": {
     "iopub.execute_input": "2022-04-30T12:52:34.031330Z",
     "iopub.status.busy": "2022-04-30T12:52:34.029973Z",
     "iopub.status.idle": "2022-04-30T12:52:34.034519Z",
     "shell.execute_reply": "2022-04-30T12:52:34.034981Z",
     "shell.execute_reply.started": "2022-04-30T12:51:07.490400Z"
    },
    "papermill": {
     "duration": 0.042383,
     "end_time": "2022-04-30T12:52:34.035138",
     "exception": false,
     "start_time": "2022-04-30T12:52:33.992755",
     "status": "completed"
    },
    "tags": []
   },
   "outputs": [
    {
     "name": "stdout",
     "output_type": "stream",
     "text": [
      "<class 'pandas.core.frame.DataFrame'>\n",
      "RangeIndex: 891 entries, 0 to 890\n",
      "Data columns (total 12 columns):\n",
      " #   Column       Non-Null Count  Dtype  \n",
      "---  ------       --------------  -----  \n",
      " 0   PassengerId  891 non-null    int64  \n",
      " 1   Survived     891 non-null    int64  \n",
      " 2   Pclass       891 non-null    int64  \n",
      " 3   Name         891 non-null    object \n",
      " 4   Sex          891 non-null    object \n",
      " 5   Age          714 non-null    float64\n",
      " 6   SibSp        891 non-null    int64  \n",
      " 7   Parch        891 non-null    int64  \n",
      " 8   Ticket       891 non-null    object \n",
      " 9   Fare         891 non-null    float64\n",
      " 10  Cabin        204 non-null    object \n",
      " 11  Embarked     889 non-null    object \n",
      "dtypes: float64(2), int64(5), object(5)\n",
      "memory usage: 83.7+ KB\n"
     ]
    }
   ],
   "source": [
    "df.info()"
   ]
  },
  {
   "cell_type": "code",
   "execution_count": 5,
   "id": "259f8d2d",
   "metadata": {
    "execution": {
     "iopub.execute_input": "2022-04-30T12:52:34.073825Z",
     "iopub.status.busy": "2022-04-30T12:52:34.072956Z",
     "iopub.status.idle": "2022-04-30T12:52:34.077383Z",
     "shell.execute_reply": "2022-04-30T12:52:34.077779Z",
     "shell.execute_reply.started": "2022-04-30T12:51:07.504595Z"
    },
    "papermill": {
     "duration": 0.025143,
     "end_time": "2022-04-30T12:52:34.077938",
     "exception": false,
     "start_time": "2022-04-30T12:52:34.052795",
     "status": "completed"
    },
    "tags": []
   },
   "outputs": [],
   "source": [
    "df = df.drop(columns=['PassengerId', 'Cabin', 'Name', 'Ticket'])"
   ]
  },
  {
   "cell_type": "code",
   "execution_count": 6,
   "id": "28e9c7df",
   "metadata": {
    "execution": {
     "iopub.execute_input": "2022-04-30T12:52:34.116515Z",
     "iopub.status.busy": "2022-04-30T12:52:34.115590Z",
     "iopub.status.idle": "2022-04-30T12:52:34.124912Z",
     "shell.execute_reply": "2022-04-30T12:52:34.124409Z",
     "shell.execute_reply.started": "2022-04-30T12:51:07.511947Z"
    },
    "papermill": {
     "duration": 0.029755,
     "end_time": "2022-04-30T12:52:34.125057",
     "exception": false,
     "start_time": "2022-04-30T12:52:34.095302",
     "status": "completed"
    },
    "tags": []
   },
   "outputs": [
    {
     "name": "stdout",
     "output_type": "stream",
     "text": [
      "28.0\n"
     ]
    }
   ],
   "source": [
    "from statistics import median\n",
    "meanAge = np.mean(df['Age'])\n",
    "medianAge = df['Age'].median()\n",
    "print(medianAge)\n",
    "df['Age'] = df['Age'].fillna(medianAge)"
   ]
  },
  {
   "cell_type": "code",
   "execution_count": 7,
   "id": "97801198",
   "metadata": {
    "execution": {
     "iopub.execute_input": "2022-04-30T12:52:34.163995Z",
     "iopub.status.busy": "2022-04-30T12:52:34.163429Z",
     "iopub.status.idle": "2022-04-30T12:52:34.169050Z",
     "shell.execute_reply": "2022-04-30T12:52:34.169539Z",
     "shell.execute_reply.started": "2022-04-30T12:51:07.523934Z"
    },
    "papermill": {
     "duration": 0.026274,
     "end_time": "2022-04-30T12:52:34.169696",
     "exception": false,
     "start_time": "2022-04-30T12:52:34.143422",
     "status": "completed"
    },
    "tags": []
   },
   "outputs": [],
   "source": [
    "df1 = df.dropna(subset=['Embarked'])"
   ]
  },
  {
   "cell_type": "code",
   "execution_count": 8,
   "id": "30d3f10e",
   "metadata": {
    "execution": {
     "iopub.execute_input": "2022-04-30T12:52:34.208922Z",
     "iopub.status.busy": "2022-04-30T12:52:34.208351Z",
     "iopub.status.idle": "2022-04-30T12:52:34.339957Z",
     "shell.execute_reply": "2022-04-30T12:52:34.340457Z",
     "shell.execute_reply.started": "2022-04-30T12:51:07.537320Z"
    },
    "papermill": {
     "duration": 0.152875,
     "end_time": "2022-04-30T12:52:34.340627",
     "exception": false,
     "start_time": "2022-04-30T12:52:34.187752",
     "status": "completed"
    },
    "tags": []
   },
   "outputs": [
    {
     "name": "stdout",
     "output_type": "stream",
     "text": [
      "{0: 'female', 1: 'male'}\n",
      "{0: 'C', 1: 'Q', 2: 'S'}\n"
     ]
    },
    {
     "name": "stderr",
     "output_type": "stream",
     "text": [
      "/opt/conda/lib/python3.7/site-packages/ipykernel_launcher.py:4: SettingWithCopyWarning: \n",
      "A value is trying to be set on a copy of a slice from a DataFrame.\n",
      "Try using .loc[row_indexer,col_indexer] = value instead\n",
      "\n",
      "See the caveats in the documentation: https://pandas.pydata.org/pandas-docs/stable/user_guide/indexing.html#returning-a-view-versus-a-copy\n",
      "  after removing the cwd from sys.path.\n",
      "/opt/conda/lib/python3.7/site-packages/ipykernel_launcher.py:11: SettingWithCopyWarning: \n",
      "A value is trying to be set on a copy of a slice from a DataFrame.\n",
      "Try using .loc[row_indexer,col_indexer] = value instead\n",
      "\n",
      "See the caveats in the documentation: https://pandas.pydata.org/pandas-docs/stable/user_guide/indexing.html#returning-a-view-versus-a-copy\n",
      "  # This is added back by InteractiveShellApp.init_path()\n"
     ]
    }
   ],
   "source": [
    "from sklearn import preprocessing\n",
    "le = preprocessing.LabelEncoder()\n",
    "le.fit(df1['Sex'])\n",
    "df1['Sex'] = le.transform(df1['Sex'])\n",
    "res_labels = dict(zip(le.classes_, le.transform(le.classes_)))\n",
    "res_labels = {value:key for key, value in res_labels.items()} \n",
    "print(res_labels)\n",
    "\n",
    "le = preprocessing.LabelEncoder()\n",
    "le.fit(df1['Embarked'])\n",
    "df1['Embarked'] = le.transform(df1['Embarked'])\n",
    "res_labels = dict(zip(le.classes_, le.transform(le.classes_)))\n",
    "res_labels = {value:key for key, value in res_labels.items()} \n",
    "print(res_labels)\n"
   ]
  },
  {
   "cell_type": "code",
   "execution_count": 9,
   "id": "8344e390",
   "metadata": {
    "execution": {
     "iopub.execute_input": "2022-04-30T12:52:34.381402Z",
     "iopub.status.busy": "2022-04-30T12:52:34.380747Z",
     "iopub.status.idle": "2022-04-30T12:52:34.392881Z",
     "shell.execute_reply": "2022-04-30T12:52:34.392288Z",
     "shell.execute_reply.started": "2022-04-30T12:51:07.554591Z"
    },
    "papermill": {
     "duration": 0.033468,
     "end_time": "2022-04-30T12:52:34.393013",
     "exception": false,
     "start_time": "2022-04-30T12:52:34.359545",
     "status": "completed"
    },
    "tags": []
   },
   "outputs": [
    {
     "name": "stderr",
     "output_type": "stream",
     "text": [
      "/opt/conda/lib/python3.7/site-packages/ipykernel_launcher.py:3: SettingWithCopyWarning: \n",
      "A value is trying to be set on a copy of a slice from a DataFrame.\n",
      "Try using .loc[row_indexer,col_indexer] = value instead\n",
      "\n",
      "See the caveats in the documentation: https://pandas.pydata.org/pandas-docs/stable/user_guide/indexing.html#returning-a-view-versus-a-copy\n",
      "  This is separate from the ipykernel package so we can avoid doing imports until\n",
      "/opt/conda/lib/python3.7/site-packages/ipykernel_launcher.py:4: SettingWithCopyWarning: \n",
      "A value is trying to be set on a copy of a slice from a DataFrame.\n",
      "Try using .loc[row_indexer,col_indexer] = value instead\n",
      "\n",
      "See the caveats in the documentation: https://pandas.pydata.org/pandas-docs/stable/user_guide/indexing.html#returning-a-view-versus-a-copy\n",
      "  after removing the cwd from sys.path.\n"
     ]
    }
   ],
   "source": [
    "from sklearn.preprocessing import MinMaxScaler\n",
    "scaler = MinMaxScaler()\n",
    "df1['Fare'] = scaler.fit_transform(df1[['Fare']])\n",
    "df1['Age'] = scaler.fit_transform(df1[['Age']])"
   ]
  },
  {
   "cell_type": "code",
   "execution_count": 10,
   "id": "7c54f442",
   "metadata": {
    "execution": {
     "iopub.execute_input": "2022-04-30T12:52:34.442483Z",
     "iopub.status.busy": "2022-04-30T12:52:34.441807Z",
     "iopub.status.idle": "2022-04-30T12:52:34.448280Z",
     "shell.execute_reply": "2022-04-30T12:52:34.448753Z",
     "shell.execute_reply.started": "2022-04-30T12:51:07.575685Z"
    },
    "papermill": {
     "duration": 0.035745,
     "end_time": "2022-04-30T12:52:34.448925",
     "exception": false,
     "start_time": "2022-04-30T12:52:34.413180",
     "status": "completed"
    },
    "tags": []
   },
   "outputs": [
    {
     "data": {
      "text/html": [
       "<div>\n",
       "<style scoped>\n",
       "    .dataframe tbody tr th:only-of-type {\n",
       "        vertical-align: middle;\n",
       "    }\n",
       "\n",
       "    .dataframe tbody tr th {\n",
       "        vertical-align: top;\n",
       "    }\n",
       "\n",
       "    .dataframe thead th {\n",
       "        text-align: right;\n",
       "    }\n",
       "</style>\n",
       "<table border=\"1\" class=\"dataframe\">\n",
       "  <thead>\n",
       "    <tr style=\"text-align: right;\">\n",
       "      <th></th>\n",
       "      <th>Survived</th>\n",
       "      <th>Pclass</th>\n",
       "      <th>Sex</th>\n",
       "      <th>Age</th>\n",
       "      <th>SibSp</th>\n",
       "      <th>Parch</th>\n",
       "      <th>Fare</th>\n",
       "      <th>Embarked</th>\n",
       "    </tr>\n",
       "  </thead>\n",
       "  <tbody>\n",
       "    <tr>\n",
       "      <th>0</th>\n",
       "      <td>0</td>\n",
       "      <td>3</td>\n",
       "      <td>1</td>\n",
       "      <td>0.271174</td>\n",
       "      <td>1</td>\n",
       "      <td>0</td>\n",
       "      <td>0.014151</td>\n",
       "      <td>2</td>\n",
       "    </tr>\n",
       "    <tr>\n",
       "      <th>1</th>\n",
       "      <td>1</td>\n",
       "      <td>1</td>\n",
       "      <td>0</td>\n",
       "      <td>0.472229</td>\n",
       "      <td>1</td>\n",
       "      <td>0</td>\n",
       "      <td>0.139136</td>\n",
       "      <td>0</td>\n",
       "    </tr>\n",
       "    <tr>\n",
       "      <th>2</th>\n",
       "      <td>1</td>\n",
       "      <td>3</td>\n",
       "      <td>0</td>\n",
       "      <td>0.321438</td>\n",
       "      <td>0</td>\n",
       "      <td>0</td>\n",
       "      <td>0.015469</td>\n",
       "      <td>2</td>\n",
       "    </tr>\n",
       "    <tr>\n",
       "      <th>3</th>\n",
       "      <td>1</td>\n",
       "      <td>1</td>\n",
       "      <td>0</td>\n",
       "      <td>0.434531</td>\n",
       "      <td>1</td>\n",
       "      <td>0</td>\n",
       "      <td>0.103644</td>\n",
       "      <td>2</td>\n",
       "    </tr>\n",
       "    <tr>\n",
       "      <th>4</th>\n",
       "      <td>0</td>\n",
       "      <td>3</td>\n",
       "      <td>1</td>\n",
       "      <td>0.434531</td>\n",
       "      <td>0</td>\n",
       "      <td>0</td>\n",
       "      <td>0.015713</td>\n",
       "      <td>2</td>\n",
       "    </tr>\n",
       "    <tr>\n",
       "      <th>...</th>\n",
       "      <td>...</td>\n",
       "      <td>...</td>\n",
       "      <td>...</td>\n",
       "      <td>...</td>\n",
       "      <td>...</td>\n",
       "      <td>...</td>\n",
       "      <td>...</td>\n",
       "      <td>...</td>\n",
       "    </tr>\n",
       "    <tr>\n",
       "      <th>886</th>\n",
       "      <td>0</td>\n",
       "      <td>2</td>\n",
       "      <td>1</td>\n",
       "      <td>0.334004</td>\n",
       "      <td>0</td>\n",
       "      <td>0</td>\n",
       "      <td>0.025374</td>\n",
       "      <td>2</td>\n",
       "    </tr>\n",
       "    <tr>\n",
       "      <th>887</th>\n",
       "      <td>1</td>\n",
       "      <td>1</td>\n",
       "      <td>0</td>\n",
       "      <td>0.233476</td>\n",
       "      <td>0</td>\n",
       "      <td>0</td>\n",
       "      <td>0.058556</td>\n",
       "      <td>2</td>\n",
       "    </tr>\n",
       "    <tr>\n",
       "      <th>888</th>\n",
       "      <td>0</td>\n",
       "      <td>3</td>\n",
       "      <td>0</td>\n",
       "      <td>0.346569</td>\n",
       "      <td>1</td>\n",
       "      <td>2</td>\n",
       "      <td>0.045771</td>\n",
       "      <td>2</td>\n",
       "    </tr>\n",
       "    <tr>\n",
       "      <th>889</th>\n",
       "      <td>1</td>\n",
       "      <td>1</td>\n",
       "      <td>1</td>\n",
       "      <td>0.321438</td>\n",
       "      <td>0</td>\n",
       "      <td>0</td>\n",
       "      <td>0.058556</td>\n",
       "      <td>0</td>\n",
       "    </tr>\n",
       "    <tr>\n",
       "      <th>890</th>\n",
       "      <td>0</td>\n",
       "      <td>3</td>\n",
       "      <td>1</td>\n",
       "      <td>0.396833</td>\n",
       "      <td>0</td>\n",
       "      <td>0</td>\n",
       "      <td>0.015127</td>\n",
       "      <td>1</td>\n",
       "    </tr>\n",
       "  </tbody>\n",
       "</table>\n",
       "<p>889 rows × 8 columns</p>\n",
       "</div>"
      ],
      "text/plain": [
       "     Survived  Pclass  Sex       Age  SibSp  Parch      Fare  Embarked\n",
       "0           0       3    1  0.271174      1      0  0.014151         2\n",
       "1           1       1    0  0.472229      1      0  0.139136         0\n",
       "2           1       3    0  0.321438      0      0  0.015469         2\n",
       "3           1       1    0  0.434531      1      0  0.103644         2\n",
       "4           0       3    1  0.434531      0      0  0.015713         2\n",
       "..        ...     ...  ...       ...    ...    ...       ...       ...\n",
       "886         0       2    1  0.334004      0      0  0.025374         2\n",
       "887         1       1    0  0.233476      0      0  0.058556         2\n",
       "888         0       3    0  0.346569      1      2  0.045771         2\n",
       "889         1       1    1  0.321438      0      0  0.058556         0\n",
       "890         0       3    1  0.396833      0      0  0.015127         1\n",
       "\n",
       "[889 rows x 8 columns]"
      ]
     },
     "execution_count": 10,
     "metadata": {},
     "output_type": "execute_result"
    }
   ],
   "source": [
    "df1"
   ]
  },
  {
   "cell_type": "code",
   "execution_count": 11,
   "id": "68b7ab19",
   "metadata": {
    "execution": {
     "iopub.execute_input": "2022-04-30T12:52:34.497966Z",
     "iopub.status.busy": "2022-04-30T12:52:34.497334Z",
     "iopub.status.idle": "2022-04-30T12:52:34.522567Z",
     "shell.execute_reply": "2022-04-30T12:52:34.521959Z",
     "shell.execute_reply.started": "2022-04-30T12:51:07.594308Z"
    },
    "papermill": {
     "duration": 0.052639,
     "end_time": "2022-04-30T12:52:34.522706",
     "exception": false,
     "start_time": "2022-04-30T12:52:34.470067",
     "status": "completed"
    },
    "tags": []
   },
   "outputs": [
    {
     "data": {
      "text/html": [
       "<div>\n",
       "<style scoped>\n",
       "    .dataframe tbody tr th:only-of-type {\n",
       "        vertical-align: middle;\n",
       "    }\n",
       "\n",
       "    .dataframe tbody tr th {\n",
       "        vertical-align: top;\n",
       "    }\n",
       "\n",
       "    .dataframe thead th {\n",
       "        text-align: right;\n",
       "    }\n",
       "</style>\n",
       "<table border=\"1\" class=\"dataframe\">\n",
       "  <thead>\n",
       "    <tr style=\"text-align: right;\">\n",
       "      <th></th>\n",
       "      <th>Survived</th>\n",
       "      <th>Pclass</th>\n",
       "      <th>Sex</th>\n",
       "      <th>Age</th>\n",
       "      <th>SibSp</th>\n",
       "      <th>Parch</th>\n",
       "      <th>Fare</th>\n",
       "      <th>Embarked</th>\n",
       "    </tr>\n",
       "  </thead>\n",
       "  <tbody>\n",
       "    <tr>\n",
       "      <th>count</th>\n",
       "      <td>889.000000</td>\n",
       "      <td>889.000000</td>\n",
       "      <td>889.000000</td>\n",
       "      <td>889.000000</td>\n",
       "      <td>889.000000</td>\n",
       "      <td>889.000000</td>\n",
       "      <td>889.000000</td>\n",
       "      <td>889.000000</td>\n",
       "    </tr>\n",
       "    <tr>\n",
       "      <th>mean</th>\n",
       "      <td>0.382452</td>\n",
       "      <td>2.311586</td>\n",
       "      <td>0.649044</td>\n",
       "      <td>0.363096</td>\n",
       "      <td>0.524184</td>\n",
       "      <td>0.382452</td>\n",
       "      <td>0.062649</td>\n",
       "      <td>1.535433</td>\n",
       "    </tr>\n",
       "    <tr>\n",
       "      <th>std</th>\n",
       "      <td>0.486260</td>\n",
       "      <td>0.834700</td>\n",
       "      <td>0.477538</td>\n",
       "      <td>0.163168</td>\n",
       "      <td>1.103705</td>\n",
       "      <td>0.806761</td>\n",
       "      <td>0.097003</td>\n",
       "      <td>0.792088</td>\n",
       "    </tr>\n",
       "    <tr>\n",
       "      <th>min</th>\n",
       "      <td>0.000000</td>\n",
       "      <td>1.000000</td>\n",
       "      <td>0.000000</td>\n",
       "      <td>0.000000</td>\n",
       "      <td>0.000000</td>\n",
       "      <td>0.000000</td>\n",
       "      <td>0.000000</td>\n",
       "      <td>0.000000</td>\n",
       "    </tr>\n",
       "    <tr>\n",
       "      <th>25%</th>\n",
       "      <td>0.000000</td>\n",
       "      <td>2.000000</td>\n",
       "      <td>0.000000</td>\n",
       "      <td>0.271174</td>\n",
       "      <td>0.000000</td>\n",
       "      <td>0.000000</td>\n",
       "      <td>0.015412</td>\n",
       "      <td>1.000000</td>\n",
       "    </tr>\n",
       "    <tr>\n",
       "      <th>50%</th>\n",
       "      <td>0.000000</td>\n",
       "      <td>3.000000</td>\n",
       "      <td>1.000000</td>\n",
       "      <td>0.346569</td>\n",
       "      <td>0.000000</td>\n",
       "      <td>0.000000</td>\n",
       "      <td>0.028213</td>\n",
       "      <td>2.000000</td>\n",
       "    </tr>\n",
       "    <tr>\n",
       "      <th>75%</th>\n",
       "      <td>1.000000</td>\n",
       "      <td>3.000000</td>\n",
       "      <td>1.000000</td>\n",
       "      <td>0.434531</td>\n",
       "      <td>1.000000</td>\n",
       "      <td>0.000000</td>\n",
       "      <td>0.060508</td>\n",
       "      <td>2.000000</td>\n",
       "    </tr>\n",
       "    <tr>\n",
       "      <th>max</th>\n",
       "      <td>1.000000</td>\n",
       "      <td>3.000000</td>\n",
       "      <td>1.000000</td>\n",
       "      <td>1.000000</td>\n",
       "      <td>8.000000</td>\n",
       "      <td>6.000000</td>\n",
       "      <td>1.000000</td>\n",
       "      <td>2.000000</td>\n",
       "    </tr>\n",
       "  </tbody>\n",
       "</table>\n",
       "</div>"
      ],
      "text/plain": [
       "         Survived      Pclass         Sex         Age       SibSp       Parch  \\\n",
       "count  889.000000  889.000000  889.000000  889.000000  889.000000  889.000000   \n",
       "mean     0.382452    2.311586    0.649044    0.363096    0.524184    0.382452   \n",
       "std      0.486260    0.834700    0.477538    0.163168    1.103705    0.806761   \n",
       "min      0.000000    1.000000    0.000000    0.000000    0.000000    0.000000   \n",
       "25%      0.000000    2.000000    0.000000    0.271174    0.000000    0.000000   \n",
       "50%      0.000000    3.000000    1.000000    0.346569    0.000000    0.000000   \n",
       "75%      1.000000    3.000000    1.000000    0.434531    1.000000    0.000000   \n",
       "max      1.000000    3.000000    1.000000    1.000000    8.000000    6.000000   \n",
       "\n",
       "             Fare    Embarked  \n",
       "count  889.000000  889.000000  \n",
       "mean     0.062649    1.535433  \n",
       "std      0.097003    0.792088  \n",
       "min      0.000000    0.000000  \n",
       "25%      0.015412    1.000000  \n",
       "50%      0.028213    2.000000  \n",
       "75%      0.060508    2.000000  \n",
       "max      1.000000    2.000000  "
      ]
     },
     "execution_count": 11,
     "metadata": {},
     "output_type": "execute_result"
    }
   ],
   "source": [
    "df1.describe()"
   ]
  },
  {
   "cell_type": "code",
   "execution_count": 12,
   "id": "b6749ad9",
   "metadata": {
    "execution": {
     "iopub.execute_input": "2022-04-30T12:52:34.570029Z",
     "iopub.status.busy": "2022-04-30T12:52:34.569378Z",
     "iopub.status.idle": "2022-04-30T12:52:34.577804Z",
     "shell.execute_reply": "2022-04-30T12:52:34.578235Z",
     "shell.execute_reply.started": "2022-04-30T12:51:07.634427Z"
    },
    "papermill": {
     "duration": 0.035024,
     "end_time": "2022-04-30T12:52:34.578433",
     "exception": false,
     "start_time": "2022-04-30T12:52:34.543409",
     "status": "completed"
    },
    "tags": []
   },
   "outputs": [
    {
     "name": "stdout",
     "output_type": "stream",
     "text": [
      "<class 'pandas.core.frame.DataFrame'>\n",
      "Int64Index: 889 entries, 0 to 890\n",
      "Data columns (total 8 columns):\n",
      " #   Column    Non-Null Count  Dtype  \n",
      "---  ------    --------------  -----  \n",
      " 0   Survived  889 non-null    int64  \n",
      " 1   Pclass    889 non-null    int64  \n",
      " 2   Sex       889 non-null    int64  \n",
      " 3   Age       889 non-null    float64\n",
      " 4   SibSp     889 non-null    int64  \n",
      " 5   Parch     889 non-null    int64  \n",
      " 6   Fare      889 non-null    float64\n",
      " 7   Embarked  889 non-null    int64  \n",
      "dtypes: float64(2), int64(6)\n",
      "memory usage: 62.5 KB\n"
     ]
    }
   ],
   "source": [
    "df1.info()"
   ]
  },
  {
   "cell_type": "code",
   "execution_count": 13,
   "id": "dbc70acf",
   "metadata": {
    "execution": {
     "iopub.execute_input": "2022-04-30T12:52:34.623080Z",
     "iopub.status.busy": "2022-04-30T12:52:34.622418Z",
     "iopub.status.idle": "2022-04-30T12:52:34.625109Z",
     "shell.execute_reply": "2022-04-30T12:52:34.625554Z",
     "shell.execute_reply.started": "2022-04-30T12:51:07.650190Z"
    },
    "papermill": {
     "duration": 0.026884,
     "end_time": "2022-04-30T12:52:34.625715",
     "exception": false,
     "start_time": "2022-04-30T12:52:34.598831",
     "status": "completed"
    },
    "tags": []
   },
   "outputs": [],
   "source": [
    "# sns.pairplot(df1)"
   ]
  },
  {
   "cell_type": "code",
   "execution_count": 14,
   "id": "251940ed",
   "metadata": {
    "execution": {
     "iopub.execute_input": "2022-04-30T12:52:34.669141Z",
     "iopub.status.busy": "2022-04-30T12:52:34.668585Z",
     "iopub.status.idle": "2022-04-30T12:52:34.968902Z",
     "shell.execute_reply": "2022-04-30T12:52:34.969426Z",
     "shell.execute_reply.started": "2022-04-30T12:51:07.655971Z"
    },
    "papermill": {
     "duration": 0.323645,
     "end_time": "2022-04-30T12:52:34.969613",
     "exception": false,
     "start_time": "2022-04-30T12:52:34.645968",
     "status": "completed"
    },
    "tags": []
   },
   "outputs": [
    {
     "name": "stderr",
     "output_type": "stream",
     "text": [
      "/opt/conda/lib/python3.7/site-packages/seaborn/_decorators.py:43: FutureWarning: Pass the following variables as keyword args: x, y. From version 0.12, the only valid positional argument will be `data`, and passing other arguments without an explicit keyword will result in an error or misinterpretation.\n",
      "  FutureWarning\n"
     ]
    },
    {
     "data": {
      "text/plain": [
       "<AxesSubplot:xlabel='Pclass', ylabel='Survived'>"
      ]
     },
     "execution_count": 14,
     "metadata": {},
     "output_type": "execute_result"
    },
    {
     "data": {
      "image/png": "[encoded data removed]",
      "text/plain": [
       "<Figure size 432x288 with 1 Axes>"
      ]
     },
     "metadata": {
      "needs_background": "light"
     },
     "output_type": "display_data"
    }
   ],
   "source": [
    "sns.barplot(df1['Pclass'], df1['Survived'])"
   ]
  },
  {
   "cell_type": "code",
   "execution_count": 15,
   "id": "12a70505",
   "metadata": {
    "execution": {
     "iopub.execute_input": "2022-04-30T12:52:35.018451Z",
     "iopub.status.busy": "2022-04-30T12:52:35.017738Z",
     "iopub.status.idle": "2022-04-30T12:52:35.065490Z",
     "shell.execute_reply": "2022-04-30T12:52:35.064972Z",
     "shell.execute_reply.started": "2022-04-30T12:51:07.978790Z"
    },
    "papermill": {
     "duration": 0.073974,
     "end_time": "2022-04-30T12:52:35.065644",
     "exception": false,
     "start_time": "2022-04-30T12:52:34.991670",
     "status": "completed"
    },
    "tags": []
   },
   "outputs": [],
   "source": [
    "from sklearn.model_selection import train_test_split\n",
    "X_train, X_test, y_train, y_test = train_test_split(df1.drop(columns = ['Survived']), df1['Survived'],\n",
    "                                                             test_size=0.2, random_state=42)"
   ]
  },
  {
   "cell_type": "code",
   "execution_count": 16,
   "id": "256ee8d6",
   "metadata": {
    "execution": {
     "iopub.execute_input": "2022-04-30T12:52:35.114900Z",
     "iopub.status.busy": "2022-04-30T12:52:35.113938Z",
     "iopub.status.idle": "2022-04-30T12:52:35.244126Z",
     "shell.execute_reply": "2022-04-30T12:52:35.243647Z",
     "shell.execute_reply.started": "2022-04-30T12:51:07.987317Z"
    },
    "papermill": {
     "duration": 0.156054,
     "end_time": "2022-04-30T12:52:35.244268",
     "exception": false,
     "start_time": "2022-04-30T12:52:35.088214",
     "status": "completed"
    },
    "tags": []
   },
   "outputs": [
    {
     "data": {
      "text/plain": [
       "SVC()"
      ]
     },
     "execution_count": 16,
     "metadata": {},
     "output_type": "execute_result"
    }
   ],
   "source": [
    "from sklearn import svm\n",
    "clf_svm = svm.SVC()\n",
    "clf_svm.fit(X_train, y_train)\n",
    "clf_svm.predict(X_test)\n",
    "clf_svm.score(X_test, y_test)\n",
    "clf_svm.fit(df1.drop(columns = ['Survived']), df1['Survived'])"
   ]
  },
  {
   "cell_type": "code",
   "execution_count": 17,
   "id": "52398bc9",
   "metadata": {
    "execution": {
     "iopub.execute_input": "2022-04-30T12:52:35.291767Z",
     "iopub.status.busy": "2022-04-30T12:52:35.290830Z",
     "iopub.status.idle": "2022-04-30T12:52:35.305038Z",
     "shell.execute_reply": "2022-04-30T12:52:35.305548Z",
     "shell.execute_reply.started": "2022-04-30T12:51:30.229238Z"
    },
    "papermill": {
     "duration": 0.039484,
     "end_time": "2022-04-30T12:52:35.305712",
     "exception": false,
     "start_time": "2022-04-30T12:52:35.266228",
     "status": "completed"
    },
    "tags": []
   },
   "outputs": [
    {
     "data": {
      "text/plain": [
       "0.7752808988764045"
      ]
     },
     "execution_count": 17,
     "metadata": {},
     "output_type": "execute_result"
    }
   ],
   "source": [
    "from sklearn.naive_bayes import GaussianNB\n",
    "clf_nb = GaussianNB()\n",
    "y_pred = clf_nb.fit(X_train, y_train).predict(X_test)\n",
    "clf_nb.score(X_test, y_test)"
   ]
  },
  {
   "cell_type": "code",
   "execution_count": 18,
   "id": "8843b8c3",
   "metadata": {
    "execution": {
     "iopub.execute_input": "2022-04-30T12:52:35.354672Z",
     "iopub.status.busy": "2022-04-30T12:52:35.353958Z",
     "iopub.status.idle": "2022-04-30T12:52:35.440359Z",
     "shell.execute_reply": "2022-04-30T12:52:35.440783Z",
     "shell.execute_reply.started": "2022-04-30T12:51:37.831361Z"
    },
    "papermill": {
     "duration": 0.113346,
     "end_time": "2022-04-30T12:52:35.440964",
     "exception": false,
     "start_time": "2022-04-30T12:52:35.327618",
     "status": "completed"
    },
    "tags": []
   },
   "outputs": [
    {
     "data": {
      "text/plain": [
       "0.7471910112359551"
      ]
     },
     "execution_count": 18,
     "metadata": {},
     "output_type": "execute_result"
    }
   ],
   "source": [
    "from sklearn import tree\n",
    "clf_tree = tree.DecisionTreeClassifier()\n",
    "y_pred = clf_tree.fit(X_train, y_train).predict(X_test)\n",
    "clf_tree.score(X_test, y_test)"
   ]
  },
  {
   "cell_type": "code",
   "execution_count": 19,
   "id": "3a0ffa03",
   "metadata": {
    "execution": {
     "iopub.execute_input": "2022-04-30T12:52:35.489115Z",
     "iopub.status.busy": "2022-04-30T12:52:35.488232Z",
     "iopub.status.idle": "2022-04-30T12:52:35.492040Z",
     "shell.execute_reply": "2022-04-30T12:52:35.492585Z",
     "shell.execute_reply.started": "2022-04-30T12:51:44.135561Z"
    },
    "papermill": {
     "duration": 0.029363,
     "end_time": "2022-04-30T12:52:35.492740",
     "exception": false,
     "start_time": "2022-04-30T12:52:35.463377",
     "status": "completed"
    },
    "tags": []
   },
   "outputs": [],
   "source": [
    "meanFare = df1['Fare'].median()"
   ]
  },
  {
   "cell_type": "code",
   "execution_count": 20,
   "id": "d4b860b9",
   "metadata": {
    "execution": {
     "iopub.execute_input": "2022-04-30T12:52:35.540824Z",
     "iopub.status.busy": "2022-04-30T12:52:35.539892Z",
     "iopub.status.idle": "2022-04-30T12:52:35.548039Z",
     "shell.execute_reply": "2022-04-30T12:52:35.548533Z",
     "shell.execute_reply.started": "2022-04-30T12:51:53.426942Z"
    },
    "papermill": {
     "duration": 0.033738,
     "end_time": "2022-04-30T12:52:35.548692",
     "exception": false,
     "start_time": "2022-04-30T12:52:35.514954",
     "status": "completed"
    },
    "tags": []
   },
   "outputs": [],
   "source": [
    "def preProcessor(_df):\n",
    "    global meanAge\n",
    "    _df = _df.drop(columns=['PassengerId', 'Cabin', 'Name', 'Ticket'])\n",
    "    _df['Age'] = _df['Age'].fillna(np.mean(medianAge))\n",
    "    _df = _df.dropna(subset=['Embarked'])\n",
    "    _df['Fare'] = _df['Fare'].fillna(np.mean(meanFare))\n",
    "    \n",
    "    le = preprocessing.LabelEncoder()\n",
    "    le.fit(_df['Sex'])\n",
    "    _df['Sex'] = le.transform(_df['Sex'])\n",
    "    res_labels = dict(zip(le.classes_, le.transform(le.classes_)))\n",
    "    res_labels = {value:key for key, value in res_labels.items()} \n",
    "\n",
    "    le = preprocessing.LabelEncoder()\n",
    "    le.fit(_df['Embarked'])\n",
    "    _df['Embarked'] = le.transform(_df['Embarked'])\n",
    "    res_labels = dict(zip(le.classes_, le.transform(le.classes_)))\n",
    "    res_labels = {value:key for key, value in res_labels.items()} \n",
    "    \n",
    "    scaler = MinMaxScaler()\n",
    "    _df['Fare'] = scaler.fit_transform(_df[['Fare']])\n",
    "    _df['Age'] = scaler.fit_transform(_df[['Age']])\n",
    "    \n",
    "    return _df\n",
    "    "
   ]
  },
  {
   "cell_type": "code",
   "execution_count": null,
   "id": "23a546a1",
   "metadata": {
    "papermill": {
     "duration": 0.022035,
     "end_time": "2022-04-30T12:52:35.593173",
     "exception": false,
     "start_time": "2022-04-30T12:52:35.571138",
     "status": "completed"
    },
    "tags": []
   },
   "outputs": [],
   "source": []
  },
  {
   "cell_type": "code",
   "execution_count": 21,
   "id": "6add1495",
   "metadata": {
    "execution": {
     "iopub.execute_input": "2022-04-30T12:52:35.641332Z",
     "iopub.status.busy": "2022-04-30T12:52:35.640436Z",
     "iopub.status.idle": "2022-04-30T12:52:35.677006Z",
     "shell.execute_reply": "2022-04-30T12:52:35.677525Z",
     "shell.execute_reply.started": "2022-04-30T12:52:00.408453Z"
    },
    "papermill": {
     "duration": 0.062199,
     "end_time": "2022-04-30T12:52:35.677706",
     "exception": false,
     "start_time": "2022-04-30T12:52:35.615507",
     "status": "completed"
    },
    "tags": []
   },
   "outputs": [],
   "source": [
    "testDf = pd.read_csv('/kaggle/input/titanic/test.csv')\n",
    "_df = preProcessor(testDf)\n",
    "op = clf_svm.predict(_df)\n",
    "output = pd.DataFrame({'PassengerId': testDf['PassengerId'], 'Survived': op})\n",
    "output.to_csv('/kaggle/working/submission.csv', index=False)\n"
   ]
  }
 ],
 "metadata": {
  "kernelspec": {
   "display_name": "Python 3",
   "language": "python",
   "name": "python3"
  },
  "language_info": {
   "codemirror_mode": {
    "name": "ipython",
    "version": 3
   },
   "file_extension": ".py",
   "mimetype": "text/x-python",
   "name": "python",
   "nbconvert_exporter": "python",
   "pygments_lexer": "ipython3",
   "version": "3.7.12"
  },
  "papermill": {
   "default_parameters": {},
   "duration": 12.054838,
   "end_time": "2022-04-30T12:52:36.411034",
   "environment_variables": {},
   "exception": null,
   "input_path": "__notebook__.ipynb",
   "output_path": "__notebook__.ipynb",
   "parameters": {},
   "start_time": "2022-04-30T12:52:24.356196",
   "version": "2.3.3"
  }
 },
 "nbformat": 4,
 "nbformat_minor": 5
}
